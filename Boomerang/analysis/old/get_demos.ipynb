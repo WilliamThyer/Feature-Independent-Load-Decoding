{
 "cells": [
  {
   "cell_type": "code",
   "execution_count": 1,
   "metadata": {
    "ExecuteTime": {
     "end_time": "2020-04-14T16:17:41.263080Z",
     "start_time": "2020-04-14T16:17:38.475613Z"
    }
   },
   "outputs": [],
   "source": [
    "import decode_eeg\n",
    "import numpy as np\n",
    "import matplotlib.pyplot as plt\n",
    "np.random.seed(42)\n",
    "%load_ext autoreload\n",
    "%autoreload 2\n",
    "import pathlib\n",
    "import json\n",
    "import pandas as pd"
   ]
  },
  {
   "cell_type": "code",
   "execution_count": 2,
   "metadata": {},
   "outputs": [],
   "source": [
    "dir = pathlib.Path('../raw_data/B01/')\n",
    "info_files = list(dir.rglob('*info*.json'))"
   ]
  },
  {
   "cell_type": "code",
   "execution_count": 3,
   "metadata": {},
   "outputs": [
    {
     "name": "stdout",
     "output_type": "stream",
     "text": [
      "01 19 124505 Male\n",
      "02 21 124275 Female\n",
      "03 27 124342 Female\n",
      "04 27 124339 Female\n",
      "05 28 124446 Male\n",
      "06 20 124414 Female\n",
      "07 22 124548 Male\n",
      "08 29 124465 Male\n",
      "11 21 124558 Female\n",
      "12 23 123730 Female\n",
      "13 29 124717 Female\n",
      "14 23 124718 Female\n",
      "15 27 123187 Male\n",
      "16 23 124727 Male\n",
      "17 23 124690 Male\n",
      "18 21 124275 Female\n",
      "19 27 124342 Female\n"
     ]
    }
   ],
   "source": [
    "for i in info_files:\n",
    "    with open(i) as f:\n",
    "        info = json.load(f)\n",
    "    print(info['Subject Number'],info['Age'],info['Unique Subject Identifier'],info['Gender'])"
   ]
  },
  {
   "cell_type": "code",
   "execution_count": 4,
   "metadata": {},
   "outputs": [],
   "source": [
    "dir = pathlib.Path('../raw_data/B01/')\n",
    "beh_files = list(dir.rglob('*.csv'))"
   ]
  },
  {
   "cell_type": "code",
   "execution_count": 5,
   "metadata": {},
   "outputs": [],
   "source": [
    "for b in beh_files:\n",
    "    df = pd.read_csv(b)\n",
    "    break"
   ]
  },
  {
   "cell_type": "code",
   "execution_count": 9,
   "metadata": {},
   "outputs": [
    {
     "data": {
      "text/plain": [
       "Timestamp('1970-01-01 00:00:01.582559631')"
      ]
     },
     "execution_count": 9,
     "metadata": {},
     "output_type": "execute_result"
    }
   ],
   "source": [
    "pd.to_datetime(df['Timestamp'].iloc[0])"
   ]
  }
 ],
 "metadata": {
  "kernelspec": {
   "display_name": "Python 3.8.10 ('archery')",
   "language": "python",
   "name": "python3"
  },
  "language_info": {
   "codemirror_mode": {
    "name": "ipython",
    "version": 3
   },
   "file_extension": ".py",
   "mimetype": "text/x-python",
   "name": "python",
   "nbconvert_exporter": "python",
   "pygments_lexer": "ipython3",
   "version": "3.8.10"
  },
  "varInspector": {
   "cols": {
    "lenName": 16,
    "lenType": 16,
    "lenVar": 40
   },
   "kernels_config": {
    "python": {
     "delete_cmd_postfix": "",
     "delete_cmd_prefix": "del ",
     "library": "var_list.py",
     "varRefreshCmd": "print(var_dic_list())"
    },
    "r": {
     "delete_cmd_postfix": ") ",
     "delete_cmd_prefix": "rm(",
     "library": "var_list.r",
     "varRefreshCmd": "cat(var_dic_list()) "
    }
   },
   "types_to_exclude": [
    "module",
    "function",
    "builtin_function_or_method",
    "instance",
    "_Feature"
   ],
   "window_display": false
  },
  "vscode": {
   "interpreter": {
    "hash": "0e28d7a6dc7611bfdd14031ec946c3c682c571ce4ba623eb550681919e64ea96"
   }
  }
 },
 "nbformat": 4,
 "nbformat_minor": 2
}
