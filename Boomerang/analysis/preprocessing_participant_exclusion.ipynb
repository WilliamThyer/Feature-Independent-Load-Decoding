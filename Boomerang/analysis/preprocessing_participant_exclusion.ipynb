{
 "cells": [
  {
   "cell_type": "code",
   "execution_count": 6,
   "metadata": {
    "ExecuteTime": {
     "end_time": "2020-04-14T16:17:41.263080Z",
     "start_time": "2020-04-14T16:17:38.475613Z"
    }
   },
   "outputs": [
    {
     "name": "stdout",
     "output_type": "stream",
     "text": [
      "The autoreload extension is already loaded. To reload it, use:\n",
      "  %reload_ext autoreload\n"
     ]
    }
   ],
   "source": [
    "import eeg_decoder \n",
    "import numpy as np\n",
    "import matplotlib.pyplot as plt\n",
    "import pandas as pd\n",
    "np.random.seed(42)\n",
    "%load_ext autoreload\n",
    "%autoreload 2"
   ]
  },
  {
   "cell_type": "code",
   "execution_count": 5,
   "metadata": {
    "ExecuteTime": {
     "end_time": "2020-04-14T16:17:44.497436Z",
     "start_time": "2020-04-14T16:17:44.296538Z"
    }
   },
   "outputs": [],
   "source": [
    "experiment_name = 'B01'\n",
    "data_dir = f'./data/{experiment_name}'\n",
    "exp = eeg_decoder.Experiment(experiment_name,data_dir,dev=False)\n",
    "exp.behavior_files = sorted(list(exp.data_dir.glob('*behavior.csv')))"
   ]
  },
  {
   "cell_type": "code",
   "execution_count": 7,
   "metadata": {},
   "outputs": [
    {
     "name": "stdout",
     "output_type": "stream",
     "text": [
      "data\\B01\\B01_01_xdata.mat\n",
      "{11: 273, 13: 278, 21: 277, 23: 276}\n",
      "data\\B01\\B01_02_xdata.mat\n",
      "{11: 213, 13: 238, 21: 228, 23: 243}\n",
      "data\\B01\\B01_03_xdata.mat\n",
      "{11: 290, 13: 282, 21: 290, 23: 282}\n",
      "data\\B01\\B01_05_xdata.mat\n",
      "{11: 279, 13: 284, 21: 292, 23: 281}\n",
      "data\\B01\\B01_06_xdata.mat\n",
      "{11: 77, 13: 78, 21: 70, 23: 75}\n",
      "data\\B01\\B01_07_xdata.mat\n",
      "{11: 249, 13: 269, 21: 259, 23: 281}\n",
      "data\\B01\\B01_08_xdata.mat\n",
      "{11: 275, 13: 272, 21: 278, 23: 275}\n",
      "data\\B01\\B01_11_xdata.mat\n",
      "{11: 280, 13: 286, 21: 272, 23: 291}\n",
      "data\\B01\\B01_12_xdata.mat\n",
      "{11: 282, 13: 293, 21: 282, 23: 280}\n",
      "data\\B01\\B01_13_xdata.mat\n",
      "{11: 292, 13: 288, 21: 286, 23: 290}\n",
      "data\\B01\\B01_14_xdata.mat\n",
      "{11: 280, 13: 291, 21: 283, 23: 290}\n",
      "data\\B01\\B01_15_xdata.mat\n",
      "{11: 212, 13: 216, 21: 259, 23: 277}\n",
      "data\\B01\\B01_16_xdata.mat\n",
      "{11: 264, 13: 287, 21: 271, 23: 272}\n",
      "data\\B01\\B01_17_xdata.mat\n",
      "{11: 227, 13: 197, 21: 243, 23: 188}\n"
     ]
    }
   ],
   "source": [
    "not_enough_data = []\n",
    "behavior_no_match = []\n",
    "\n",
    "for isub in range(exp.nsub):\n",
    "    print(exp.xdata_files[isub])\n",
    "    xdata,ydata = exp.load_eeg(isub)\n",
    "\n",
    "    # Check enough data\n",
    "    labels,cond_counts = np.unique(ydata,return_counts=True)\n",
    "    print(dict(zip(labels,cond_counts)))\n",
    "    check_enough_data = np.all(cond_counts[~np.isin(labels,[10,20])]>150)\n",
    "\n",
    "    if check_enough_data == False:\n",
    "        not_enough_data.append(isub)\n",
    "\n",
    "    # Check data files align\n",
    "    noArt_idx = exp.load_artifact_idx(isub)\n",
    "    assert xdata.shape[0]==noArt_idx.sum()\n",
    "\n",
    "    behavior = pd.read_csv(exp.behavior_files[isub])\n",
    "    behavior = behavior[behavior.Block.notnull()] # cut out original post-task stuff\n",
    "    \n",
    "    if len(behavior)!=noArt_idx.shape[0]:\n",
    "        behavior_no_match.append(isub)\n"
   ]
  },
  {
   "cell_type": "code",
   "execution_count": 8,
   "metadata": {},
   "outputs": [
    {
     "name": "stdout",
     "output_type": "stream",
     "text": [
      "[4]\n",
      "[]\n"
     ]
    }
   ],
   "source": [
    "\n",
    "print(not_enough_data)\n",
    "print(behavior_no_match)"
   ]
  }
 ],
 "metadata": {
  "interpreter": {
   "hash": "d3a69fb0db618fbcab2c09751e112fe5c333bd7dbcd22df9aa04e19f2c5c72f9"
  },
  "kernelspec": {
   "display_name": "Python 3.8.10 64-bit ('archery': conda)",
   "name": "python3"
  },
  "language_info": {
   "codemirror_mode": {
    "name": "ipython",
    "version": 3
   },
   "file_extension": ".py",
   "mimetype": "text/x-python",
   "name": "python",
   "nbconvert_exporter": "python",
   "pygments_lexer": "ipython3",
   "version": "3.8.10"
  },
  "varInspector": {
   "cols": {
    "lenName": 16,
    "lenType": 16,
    "lenVar": 40
   },
   "kernels_config": {
    "python": {
     "delete_cmd_postfix": "",
     "delete_cmd_prefix": "del ",
     "library": "var_list.py",
     "varRefreshCmd": "print(var_dic_list())"
    },
    "r": {
     "delete_cmd_postfix": ") ",
     "delete_cmd_prefix": "rm(",
     "library": "var_list.r",
     "varRefreshCmd": "cat(var_dic_list()) "
    }
   },
   "types_to_exclude": [
    "module",
    "function",
    "builtin_function_or_method",
    "instance",
    "_Feature"
   ],
   "window_display": false
  }
 },
 "nbformat": 4,
 "nbformat_minor": 2
}
