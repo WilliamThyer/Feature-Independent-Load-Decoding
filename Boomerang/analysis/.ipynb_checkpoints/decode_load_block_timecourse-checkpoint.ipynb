{
 "cells": [
  {
   "cell_type": "code",
   "execution_count": 1,
   "metadata": {
    "ExecuteTime": {
     "end_time": "2020-03-29T16:45:33.934212Z",
     "start_time": "2020-03-29T16:45:31.421651Z"
    }
   },
   "outputs": [],
   "source": [
    "import sys\n",
    "sys.path.insert(1, '../../decode_eeg/')\n",
    "import decode_eeg\n",
    "import numpy as np\n",
    "import matplotlib.pyplot as plt\n",
    "np.random.seed(42)\n",
    "%load_ext autoreload\n",
    "%autoreload 2"
   ]
  },
  {
   "cell_type": "code",
   "execution_count": 7,
   "metadata": {
    "ExecuteTime": {
     "end_time": "2020-03-29T16:46:26.484952Z",
     "start_time": "2020-03-29T16:46:26.303027Z"
    }
   },
   "outputs": [],
   "source": [
    "experiment_name = 'B01'\n",
    "data_dir = f'./data/{experiment_name}'\n",
    "exp = decode_eeg.Experiment(experiment_name,data_dir,test=False)"
   ]
  },
  {
   "cell_type": "code",
   "execution_count": 8,
   "metadata": {
    "ExecuteTime": {
     "end_time": "2020-03-29T16:46:28.129185Z",
     "start_time": "2020-03-29T16:46:27.943315Z"
    }
   },
   "outputs": [],
   "source": [
    "time_window = 30\n",
    "time_step = 50\n",
    "trial_average = 20\n",
    "n_splits = 10\n",
    "group_dict = {0:[11,13],1:[21,23]}\n",
    "wrangl = decode_eeg.Wrangler(exp.info['times'],time_window,time_step,trial_average,n_splits,group_dict)\n",
    "\n",
    "clfr = decode_eeg.Classification(wrangl,exp.nsub)"
   ]
  },
  {
   "cell_type": "code",
   "execution_count": null,
   "metadata": {
    "ExecuteTime": {
     "start_time": "2020-03-29T16:46:28.554Z"
    }
   },
   "outputs": [
    {
     "name": "stdout",
     "output_type": "stream",
     "text": [
      "0\n",
      "1                 \n",
      "2                 \n",
      "3                 \n",
      "4                 \n",
      "5                 \n",
      "6                 \n",
      "7                 \n",
      "8                 \n",
      "9                 \n",
      "80.0% \r"
     ]
    }
   ],
   "source": [
    "for isub in range(exp.nsub):\n",
    "    print(isub)\n",
    "    xdata,ydata = exp.load_eeg(isub)\n",
    "    xdata,ydata = wrangl.setup_data(xdata,ydata)\n",
    "    for X_train_all, X_test_all, y_train, y_test in wrangl.train_test_split(xdata,ydata):\n",
    "        for X_train, X_test in wrangl.roll_over_time(X_train_all, X_test_all):\n",
    "            clfr.decode(X_train,X_test,y_train,y_test,isub)"
   ]
  },
  {
   "cell_type": "code",
   "execution_count": null,
   "metadata": {
    "ExecuteTime": {
     "start_time": "2020-03-29T16:46:30.403Z"
    }
   },
   "outputs": [],
   "source": [
    "interp = decode_eeg.Interpreter(clfr)\n",
    "interp.plot_acc(upper=.9,lower=.1)"
   ]
  }
 ],
 "metadata": {
  "kernelspec": {
   "display_name": "Python 3",
   "language": "python",
   "name": "python3"
  },
  "language_info": {
   "codemirror_mode": {
    "name": "ipython",
    "version": 3
   },
   "file_extension": ".py",
   "mimetype": "text/x-python",
   "name": "python",
   "nbconvert_exporter": "python",
   "pygments_lexer": "ipython3",
   "version": "3.7.3"
  },
  "varInspector": {
   "cols": {
    "lenName": 16,
    "lenType": 16,
    "lenVar": 40
   },
   "kernels_config": {
    "python": {
     "delete_cmd_postfix": "",
     "delete_cmd_prefix": "del ",
     "library": "var_list.py",
     "varRefreshCmd": "print(var_dic_list())"
    },
    "r": {
     "delete_cmd_postfix": ") ",
     "delete_cmd_prefix": "rm(",
     "library": "var_list.r",
     "varRefreshCmd": "cat(var_dic_list()) "
    }
   },
   "types_to_exclude": [
    "module",
    "function",
    "builtin_function_or_method",
    "instance",
    "_Feature"
   ],
   "window_display": false
  }
 },
 "nbformat": 4,
 "nbformat_minor": 2
}
