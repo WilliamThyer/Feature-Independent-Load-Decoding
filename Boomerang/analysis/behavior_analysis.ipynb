{
 "cells": [
  {
   "cell_type": "code",
   "execution_count": 1,
   "metadata": {
    "ExecuteTime": {
     "end_time": "2020-05-10T16:53:34.147747Z",
     "start_time": "2020-05-10T16:53:31.818642Z"
    },
    "tags": []
   },
   "outputs": [
    {
     "name": "stderr",
     "output_type": "stream",
     "text": [
      "C:\\Users\\William\\AppData\\Roaming\\Python\\Python38\\site-packages\\outdated\\utils.py:14: OutdatedPackageWarning: The package pingouin is out of date. Your version is 0.5.0, the latest is 0.5.3.\n",
      "Set the environment variable OUTDATED_IGNORE=1 to disable these warnings.\n",
      "  return warn(\n",
      "C:\\Users\\William\\AppData\\Roaming\\Python\\Python38\\site-packages\\outdated\\utils.py:14: OutdatedPackageWarning: The package outdated is out of date. Your version is 0.2.1, the latest is 0.2.2.\n",
      "Set the environment variable OUTDATED_IGNORE=1 to disable these warnings.\n",
      "  return warn(\n"
     ]
    }
   ],
   "source": [
    "import sys\n",
    "sys.path.append('../..')\n",
    "\n",
    "import eeg_decoder\n",
    "import numpy as np\n",
    "import matplotlib.pyplot as plt\n",
    "import seaborn as sns\n",
    "from pathlib import Path\n",
    "import pandas as pd\n",
    "import scipy.stats as sista\n",
    "import statsmodels\n",
    "import statsmodels.api as sm\n",
    "from statsmodels.formula.api import ols\n",
    "import pingouin\n",
    "\n",
    "import matplotlib\n",
    "matplotlib.rcParams['font.sans-serif'] = \"Arial\"\n",
    "matplotlib.rcParams['font.family'] = \"sans-serif\"\n",
    "\n",
    "np.random.seed(42)\n",
    "%load_ext autoreload\n",
    "%autoreload 2"
   ]
  },
  {
   "cell_type": "code",
   "execution_count": 2,
   "metadata": {},
   "outputs": [
    {
     "data": {
      "text/html": [
       "<div>\n",
       "<style scoped>\n",
       "    .dataframe tbody tr th:only-of-type {\n",
       "        vertical-align: middle;\n",
       "    }\n",
       "\n",
       "    .dataframe tbody tr th {\n",
       "        vertical-align: top;\n",
       "    }\n",
       "\n",
       "    .dataframe thead th {\n",
       "        text-align: right;\n",
       "    }\n",
       "</style>\n",
       "<table border=\"1\" class=\"dataframe\">\n",
       "  <thead>\n",
       "    <tr style=\"text-align: right;\">\n",
       "      <th></th>\n",
       "      <th>Subject</th>\n",
       "      <th>SetSize</th>\n",
       "      <th>Block Feature</th>\n",
       "      <th>ACC</th>\n",
       "      <th>RT</th>\n",
       "      <th>BlockFeature</th>\n",
       "    </tr>\n",
       "  </thead>\n",
       "  <tbody>\n",
       "    <tr>\n",
       "      <th>850</th>\n",
       "      <td>17</td>\n",
       "      <td>1</td>\n",
       "      <td>1</td>\n",
       "      <td>1</td>\n",
       "      <td>582.629951</td>\n",
       "      <td>Orientation</td>\n",
       "    </tr>\n",
       "    <tr>\n",
       "      <th>851</th>\n",
       "      <td>17</td>\n",
       "      <td>1</td>\n",
       "      <td>1</td>\n",
       "      <td>1</td>\n",
       "      <td>592.172719</td>\n",
       "      <td>Orientation</td>\n",
       "    </tr>\n",
       "    <tr>\n",
       "      <th>852</th>\n",
       "      <td>17</td>\n",
       "      <td>3</td>\n",
       "      <td>1</td>\n",
       "      <td>1</td>\n",
       "      <td>761.773224</td>\n",
       "      <td>Orientation</td>\n",
       "    </tr>\n",
       "    <tr>\n",
       "      <th>853</th>\n",
       "      <td>17</td>\n",
       "      <td>1</td>\n",
       "      <td>1</td>\n",
       "      <td>1</td>\n",
       "      <td>402.485419</td>\n",
       "      <td>Orientation</td>\n",
       "    </tr>\n",
       "    <tr>\n",
       "      <th>854</th>\n",
       "      <td>17</td>\n",
       "      <td>1</td>\n",
       "      <td>1</td>\n",
       "      <td>1</td>\n",
       "      <td>420.117528</td>\n",
       "      <td>Orientation</td>\n",
       "    </tr>\n",
       "  </tbody>\n",
       "</table>\n",
       "</div>"
      ],
      "text/plain": [
       "     Subject  SetSize  Block Feature  ACC          RT BlockFeature\n",
       "850       17        1              1    1  582.629951  Orientation\n",
       "851       17        1              1    1  592.172719  Orientation\n",
       "852       17        3              1    1  761.773224  Orientation\n",
       "853       17        1              1    1  402.485419  Orientation\n",
       "854       17        1              1    1  420.117528  Orientation"
      ]
     },
     "execution_count": 2,
     "metadata": {},
     "output_type": "execute_result"
    }
   ],
   "source": [
    "output_dir = Path('./output')\n",
    "fig_dir = output_dir / 'figures' / 'behavior'\n",
    "\n",
    "behavior = None\n",
    "experiment_name = 'B01' \n",
    "data_dir = f'./data/{experiment_name}'\n",
    "exp = eeg_decoder.Experiment(experiment_name,data_dir,dev=False)\n",
    "    \n",
    "for isub in range(exp.nsub):\n",
    "    # Load subject's behavior data\n",
    "    if behavior is None:\n",
    "        behavior = pd.DataFrame(exp.load_behavior(isub))[['Subject','SetSize','Block Feature','ACC','RT']]\n",
    "    else:\n",
    "        temp = pd.DataFrame(exp.load_behavior(isub))[['Subject','SetSize','Block Feature','ACC','RT']]\n",
    "        behavior = behavior.append(temp)\n",
    "\n",
    "behavior['BlockFeature'] = behavior['Block Feature'].map({0:'Color',1:'Orientation'})\n",
    "behavior.tail()"
   ]
  },
  {
   "cell_type": "code",
   "execution_count": 3,
   "metadata": {},
   "outputs": [
    {
     "data": {
      "text/html": [
       "<div>\n",
       "<style scoped>\n",
       "    .dataframe tbody tr th:only-of-type {\n",
       "        vertical-align: middle;\n",
       "    }\n",
       "\n",
       "    .dataframe tbody tr th {\n",
       "        vertical-align: top;\n",
       "    }\n",
       "\n",
       "    .dataframe thead th {\n",
       "        text-align: right;\n",
       "    }\n",
       "</style>\n",
       "<table border=\"1\" class=\"dataframe\">\n",
       "  <thead>\n",
       "    <tr style=\"text-align: right;\">\n",
       "      <th></th>\n",
       "      <th></th>\n",
       "      <th>mean</th>\n",
       "      <th>std</th>\n",
       "    </tr>\n",
       "    <tr>\n",
       "      <th>SetSize</th>\n",
       "      <th>BlockFeature</th>\n",
       "      <th></th>\n",
       "      <th></th>\n",
       "    </tr>\n",
       "  </thead>\n",
       "  <tbody>\n",
       "    <tr>\n",
       "      <th rowspan=\"2\" valign=\"top\">1</th>\n",
       "      <th>Color</th>\n",
       "      <td>0.982436</td>\n",
       "      <td>0.131381</td>\n",
       "    </tr>\n",
       "    <tr>\n",
       "      <th>Orientation</th>\n",
       "      <td>0.963636</td>\n",
       "      <td>0.187220</td>\n",
       "    </tr>\n",
       "    <tr>\n",
       "      <th rowspan=\"2\" valign=\"top\">3</th>\n",
       "      <th>Color</th>\n",
       "      <td>0.921000</td>\n",
       "      <td>0.269778</td>\n",
       "    </tr>\n",
       "    <tr>\n",
       "      <th>Orientation</th>\n",
       "      <td>0.825581</td>\n",
       "      <td>0.379523</td>\n",
       "    </tr>\n",
       "  </tbody>\n",
       "</table>\n",
       "</div>"
      ],
      "text/plain": [
       "                          mean       std\n",
       "SetSize BlockFeature                    \n",
       "1       Color         0.982436  0.131381\n",
       "        Orientation   0.963636  0.187220\n",
       "3       Color         0.921000  0.269778\n",
       "        Orientation   0.825581  0.379523"
      ]
     },
     "execution_count": 3,
     "metadata": {},
     "output_type": "execute_result"
    }
   ],
   "source": [
    "total_means = behavior.groupby(['SetSize','BlockFeature'])['ACC'].agg(['mean','std'])\n",
    "subject_means = behavior.groupby(['SetSize','BlockFeature','Subject'])['ACC'].mean().reset_index()\n",
    "total_means"
   ]
  },
  {
   "cell_type": "code",
   "execution_count": 4,
   "metadata": {},
   "outputs": [],
   "source": [
    "def get_error(setsize, block_feature):\n",
    "    query = (f\"(SetSize == {setsize}) & (BlockFeature == '{block_feature}')\")\n",
    "    return subject_means.query(query).groupby('Subject').mean().reset_index()['ACC']"
   ]
  },
  {
   "cell_type": "code",
   "execution_count": 8,
   "metadata": {},
   "outputs": [
    {
     "data": {
      "image/png": "[encoded data removed]",
      "text/plain": [
       "<Figure size 800x450 with 1 Axes>"
      ]
     },
     "metadata": {},
     "output_type": "display_data"
    }
   ],
   "source": [
    "fig, ax = plt.subplots(1, 1, sharey=True, figsize=(8,4.5))\n",
    "my_pal = {\"royalblue\", \"firebrick\", \"forestgreen\", \"orange\"}\n",
    "\n",
    "# experiment 1\n",
    "sns.violinplot(\n",
    "    ax = ax,\n",
    "    x = 'SetSize',\n",
    "    y = 'ACC',\n",
    "    hue = 'BlockFeature',\n",
    "    data = subject_means,\n",
    "    dodge=True,\n",
    "    inner='points',\n",
    "    palette=[\"royalblue\",\"firebrick\"],\n",
    "    cut=.3\n",
    ")\n",
    "\n",
    "# plot means\n",
    "total_means_vals = total_means['mean'].values\n",
    "ax.scatter(\n",
    "    x = [-.2,.2,.8,1.2],\n",
    "    y = [total_means_vals[0],total_means_vals[1],total_means_vals[2],total_means_vals[3]],\n",
    "    c = 'white', edgecolors='k',s=75)\n",
    "\n",
    "# asethetics\n",
    "plt.legend(loc='lower left',fontsize=14,title_fontsize=14)\n",
    "leg = ax.get_legend()\n",
    "leg.set_title(title='Block Feature')\n",
    "ax.spines['right'].set_visible(False)\n",
    "ax.spines['top'].set_visible(False)\n",
    "plt.setp(ax.get_xticklabels(), fontsize=14)\n",
    "plt.setp(ax.get_yticklabels(), fontsize=14)\n",
    "ax.set_xlabel('Set Size',fontsize=14)\n",
    "ax.set_ylabel('Accuracy',fontsize=14)\n",
    "ax.set_title('Change detection accuracy',fontsize=16)\n",
    "plt.ylim([.56,1.04])\n",
    "plt.savefig('output/figures/cd_accuracy.png',dpi=500,bbox_inches='tight')\n",
    "plt.savefig('output/figures/cd_accuracy.pdf',dpi=500,bbox_inches='tight')\n",
    "\n",
    "plt.show()"
   ]
  },
  {
   "attachments": {},
   "cell_type": "markdown",
   "metadata": {},
   "source": [
    "# Accuracy ANOVA within each experiment"
   ]
  },
  {
   "cell_type": "code",
   "execution_count": 44,
   "metadata": {},
   "outputs": [],
   "source": [
    "subject_means = subject_means.rename({'BlockFeature':'Feature'},axis=1)"
   ]
  },
  {
   "cell_type": "code",
   "execution_count": 45,
   "metadata": {},
   "outputs": [
    {
     "data": {
      "text/html": [
       "<div>\n",
       "<style scoped>\n",
       "    .dataframe tbody tr th:only-of-type {\n",
       "        vertical-align: middle;\n",
       "    }\n",
       "\n",
       "    .dataframe tbody tr th {\n",
       "        vertical-align: top;\n",
       "    }\n",
       "\n",
       "    .dataframe thead th {\n",
       "        text-align: right;\n",
       "    }\n",
       "</style>\n",
       "<table border=\"1\" class=\"dataframe\">\n",
       "  <thead>\n",
       "    <tr style=\"text-align: right;\">\n",
       "      <th></th>\n",
       "      <th>SetSize</th>\n",
       "      <th>Feature</th>\n",
       "      <th>Subject</th>\n",
       "      <th>ACC</th>\n",
       "    </tr>\n",
       "  </thead>\n",
       "  <tbody>\n",
       "    <tr>\n",
       "      <th>0</th>\n",
       "      <td>1</td>\n",
       "      <td>Color</td>\n",
       "      <td>5</td>\n",
       "      <td>0.974910</td>\n",
       "    </tr>\n",
       "    <tr>\n",
       "      <th>1</th>\n",
       "      <td>1</td>\n",
       "      <td>Color</td>\n",
       "      <td>7</td>\n",
       "      <td>0.967871</td>\n",
       "    </tr>\n",
       "    <tr>\n",
       "      <th>2</th>\n",
       "      <td>1</td>\n",
       "      <td>Color</td>\n",
       "      <td>8</td>\n",
       "      <td>1.000000</td>\n",
       "    </tr>\n",
       "    <tr>\n",
       "      <th>3</th>\n",
       "      <td>1</td>\n",
       "      <td>Color</td>\n",
       "      <td>11</td>\n",
       "      <td>0.992857</td>\n",
       "    </tr>\n",
       "    <tr>\n",
       "      <th>4</th>\n",
       "      <td>1</td>\n",
       "      <td>Color</td>\n",
       "      <td>12</td>\n",
       "      <td>0.978723</td>\n",
       "    </tr>\n",
       "  </tbody>\n",
       "</table>\n",
       "</div>"
      ],
      "text/plain": [
       "   SetSize Feature  Subject       ACC\n",
       "0        1   Color        5  0.974910\n",
       "1        1   Color        7  0.967871\n",
       "2        1   Color        8  1.000000\n",
       "3        1   Color       11  0.992857\n",
       "4        1   Color       12  0.978723"
      ]
     },
     "execution_count": 45,
     "metadata": {},
     "output_type": "execute_result"
    }
   ],
   "source": [
    "subject_means.head()"
   ]
  },
  {
   "cell_type": "code",
   "execution_count": 49,
   "metadata": {},
   "outputs": [
    {
     "name": "stdout",
     "output_type": "stream",
     "text": [
      "                    Anova\n",
      "=============================================\n",
      "                F Value Num DF  Den DF Pr > F\n",
      "---------------------------------------------\n",
      "Feature         32.7424 1.0000 11.0000 0.0001\n",
      "SetSize         20.5953 1.0000 11.0000 0.0008\n",
      "Feature:SetSize 16.7286 1.0000 11.0000 0.0018\n",
      "=============================================\n",
      "\n"
     ]
    }
   ],
   "source": [
    "from statsmodels.stats.anova import AnovaRM\n",
    "aovrm = AnovaRM(subject_means, 'ACC', 'Subject', within=['Feature','SetSize'],aggregate_func='mean')\n",
    "res = aovrm.fit()\n",
    "print(res)"
   ]
  }
 ],
 "metadata": {
  "kernelspec": {
   "display_name": "archery",
   "language": "python",
   "name": "python3"
  },
  "language_info": {
   "codemirror_mode": {
    "name": "ipython",
    "version": 3
   },
   "file_extension": ".py",
   "mimetype": "text/x-python",
   "name": "python",
   "nbconvert_exporter": "python",
   "pygments_lexer": "ipython3",
   "version": "3.8.10"
  },
  "varInspector": {
   "cols": {
    "lenName": 16,
    "lenType": 16,
    "lenVar": 40
   },
   "kernels_config": {
    "python": {
     "delete_cmd_postfix": "",
     "delete_cmd_prefix": "del ",
     "library": "var_list.py",
     "varRefreshCmd": "print(var_dic_list())"
    },
    "r": {
     "delete_cmd_postfix": ") ",
     "delete_cmd_prefix": "rm(",
     "library": "var_list.r",
     "varRefreshCmd": "cat(var_dic_list()) "
    }
   },
   "types_to_exclude": [
    "module",
    "function",
    "builtin_function_or_method",
    "instance",
    "_Feature"
   ],
   "window_display": false
  },
  "vscode": {
   "interpreter": {
    "hash": "0e28d7a6dc7611bfdd14031ec946c3c682c571ce4ba623eb550681919e64ea96"
   }
  }
 },
 "nbformat": 4,
 "nbformat_minor": 2
}
