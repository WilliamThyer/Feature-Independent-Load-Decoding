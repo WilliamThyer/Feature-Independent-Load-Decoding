{
 "cells": [
  {
   "cell_type": "code",
   "execution_count": 14,
   "id": "36ca012c-4f06-4b11-8293-020ac7172c86",
   "metadata": {},
   "outputs": [
    {
     "name": "stdout",
     "output_type": "stream",
     "text": [
      "The autoreload extension is already loaded. To reload it, use:\n",
      "  %reload_ext autoreload\n"
     ]
    }
   ],
   "source": [
    "import sys\n",
    "sys.path.append('../..')\n",
    "\n",
    "import numpy as np\n",
    "import pandas as pd\n",
    "import eeg_decoder as eeg_decoder\n",
    "\n",
    "%load_ext autoreload\n",
    "%autoreload 2"
   ]
  },
  {
   "cell_type": "code",
   "execution_count": 32,
   "id": "b32a8db1-5a14-4bf6-9913-f4442ee33f56",
   "metadata": {},
   "outputs": [
    {
     "data": {
      "text/plain": [
       "[WindowsPath('data/e/e_01_behavior.csv'),\n",
       " WindowsPath('data/e/e_02_behavior.csv'),\n",
       " WindowsPath('data/e/e_04_behavior.csv'),\n",
       " WindowsPath('data/e/e_05_behavior.csv'),\n",
       " WindowsPath('data/e/e_06_behavior.csv'),\n",
       " WindowsPath('data/e/e_07_behavior.csv'),\n",
       " WindowsPath('data/e/e_08_behavior.csv'),\n",
       " WindowsPath('data/e/e_10_behavior.csv'),\n",
       " WindowsPath('data/e/e_11_behavior.csv'),\n",
       " WindowsPath('data/e/e_13_behavior.csv'),\n",
       " WindowsPath('data/e/e_14_behavior.csv'),\n",
       " WindowsPath('data/e/e_15_behavior.csv'),\n",
       " WindowsPath('data/e/e_16_behavior.csv'),\n",
       " WindowsPath('data/e/e_18_behavior.csv'),\n",
       " WindowsPath('data/e/e_19_behavior.csv')]"
      ]
     },
     "execution_count": 32,
     "metadata": {},
     "output_type": "execute_result"
    }
   ],
   "source": [
    "experiment_name = 'e'\n",
    "data_dir = f'./data/{experiment_name}'\n",
    "exp = eeg_decoder.Experiment(experiment_name,data_dir,dev=False,info_from_file=True)\n",
    "exp.behavior_files = sorted(list(exp.data_dir.glob('*behavior.csv')))\n",
    "exp.behavior_files"
   ]
  },
  {
   "cell_type": "code",
   "execution_count": 33,
   "id": "671f92bd-6a99-4a18-bf92-9eb366e0becd",
   "metadata": {
    "collapsed": true,
    "jupyter": {
     "outputs_hidden": true
    },
    "tags": []
   },
   "outputs": [
    {
     "name": "stdout",
     "output_type": "stream",
     "text": [
      "data\\e\\e_01_xdata.mat\n",
      "{10: 39, 11: 207, 12: 216, 20: 44, 21: 226, 22: 216}\n",
      "data\\e\\e_02_xdata.mat\n",
      "{10: 47, 11: 254, 12: 252, 20: 47, 21: 208, 22: 200}\n",
      "data\\e\\e_04_xdata.mat\n",
      "{10: 42, 11: 212, 12: 199, 20: 40, 21: 216, 22: 208}\n",
      "data\\e\\e_05_xdata.mat\n",
      "{10: 37, 11: 182, 12: 202, 20: 43, 21: 168, 22: 206}\n",
      "data\\e\\e_06_xdata.mat\n",
      "{10: 38, 11: 233, 12: 245, 20: 62, 21: 275, 22: 267}\n",
      "data\\e\\e_07_xdata.mat\n",
      "{10: 36, 11: 236, 12: 239, 20: 52, 21: 241, 22: 248}\n",
      "data\\e\\e_08_xdata.mat\n",
      "{10: 37, 11: 248, 12: 245, 20: 53, 21: 252, 22: 233}\n",
      "data\\e\\e_10_xdata.mat\n",
      "{10: 39, 11: 237, 12: 237, 20: 57, 21: 251, 22: 247}\n",
      "data\\e\\e_11_xdata.mat\n",
      "{10: 38, 11: 222, 12: 227, 20: 48, 21: 237, 22: 223}\n",
      "data\\e\\e_13_xdata.mat\n",
      "{10: 39, 11: 182, 12: 161, 20: 31, 21: 160, 22: 146}\n",
      "data\\e\\e_14_xdata.mat\n",
      "{10: 36, 11: 190, 12: 191, 20: 38, 21: 205, 22: 204}\n",
      "data\\e\\e_15_xdata.mat\n",
      "{10: 37, 11: 216, 12: 221, 20: 43, 21: 205, 22: 203}\n",
      "data\\e\\e_16_xdata.mat\n",
      "{10: 40, 11: 223, 12: 215, 20: 24, 21: 174, 22: 207}\n",
      "data\\e\\e_18_xdata.mat\n",
      "{10: 27, 11: 154, 12: 156, 20: 21, 21: 146, 22: 156}\n",
      "data\\e\\e_19_xdata.mat\n",
      "{10: 44, 11: 240, 12: 247, 20: 45, 21: 235, 22: 242}\n"
     ]
    }
   ],
   "source": [
    "\n",
    "not_enough_data = []\n",
    "behavior_no_match = []\n",
    "\n",
    "for isub in range(exp.nsub):\n",
    "    print(exp.xdata_files[isub])\n",
    "    xdata,ydata = exp.load_eeg(isub)\n",
    "\n",
    "    # Check enough data\n",
    "    labels,cond_counts = np.unique(ydata,return_counts=True)\n",
    "    print(dict(zip(labels,cond_counts)))\n",
    "    check_enough_data = np.all(cond_counts[~np.isin(labels,[10,20])]>150)\n",
    "\n",
    "    if check_enough_data == False:\n",
    "        not_enough_data.append(isub)\n",
    "\n",
    "    # Check data files align\n",
    "    noArt_idx = exp.load_artifact_idx(isub)\n",
    "    assert xdata.shape[0]==noArt_idx.sum()\n",
    "\n",
    "    behavior = pd.read_csv(exp.behavior_files[isub])\n",
    "    behavior = behavior[behavior.Block.notnull()] # cut out original post-task stuff\n",
    "    \n",
    "    if len(behavior)!=noArt_idx.shape[0]:\n",
    "        behavior_no_match.append(isub)\n"
   ]
  },
  {
   "cell_type": "code",
   "execution_count": 38,
   "id": "ab8cbf1e",
   "metadata": {},
   "outputs": [
    {
     "name": "stdout",
     "output_type": "stream",
     "text": [
      "[WindowsPath('data/e/e_13_xdata.mat') WindowsPath('data/e/e_18_xdata.mat')]\n",
      "[]\n"
     ]
    }
   ],
   "source": [
    "print(np.array(exp.xdata_files)[np.array(not_enough_data)])\n",
    "print(np.array(behavior_no_match))"
   ]
  }
 ],
 "metadata": {
  "kernelspec": {
   "display_name": "Python 3.8.10 ('archery')",
   "language": "python",
   "name": "python3"
  },
  "language_info": {
   "codemirror_mode": {
    "name": "ipython",
    "version": 3
   },
   "file_extension": ".py",
   "mimetype": "text/x-python",
   "name": "python",
   "nbconvert_exporter": "python",
   "pygments_lexer": "ipython3",
   "version": "3.8.10"
  },
  "vscode": {
   "interpreter": {
    "hash": "0e28d7a6dc7611bfdd14031ec946c3c682c571ce4ba623eb550681919e64ea96"
   }
  }
 },
 "nbformat": 4,
 "nbformat_minor": 5
}
