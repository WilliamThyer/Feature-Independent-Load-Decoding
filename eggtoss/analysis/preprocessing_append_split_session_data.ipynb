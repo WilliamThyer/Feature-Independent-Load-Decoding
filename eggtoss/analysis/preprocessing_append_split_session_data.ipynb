{
 "cells": [
  {
   "cell_type": "code",
   "execution_count": 2,
   "metadata": {},
   "outputs": [],
   "source": [
    "import sys\n",
    "sys.path.append('../..')\n",
    "\n",
    "import eeg_decoder \n",
    "import pandas as pd\n",
    "import numpy as np\n",
    "import scipy.io as io\n",
    "from pathlib import Path\n",
    "import shutil"
   ]
  },
  {
   "cell_type": "code",
   "execution_count": 3,
   "metadata": {},
   "outputs": [
    {
     "data": {
      "text/plain": [
       "[WindowsPath('data/e/01'),\n",
       " WindowsPath('data/e/02'),\n",
       " WindowsPath('data/e/03'),\n",
       " WindowsPath('data/e/04'),\n",
       " WindowsPath('data/e/05'),\n",
       " WindowsPath('data/e/06'),\n",
       " WindowsPath('data/e/07'),\n",
       " WindowsPath('data/e/08'),\n",
       " WindowsPath('data/e/10'),\n",
       " WindowsPath('data/e/11'),\n",
       " WindowsPath('data/e/13'),\n",
       " WindowsPath('data/e/14'),\n",
       " WindowsPath('data/e/15'),\n",
       " WindowsPath('data/e/16')]"
      ]
     },
     "execution_count": 3,
     "metadata": {},
     "output_type": "execute_result"
    }
   ],
   "source": [
    "experiment = 'e'\n",
    "data_dir = f'./data/{experiment}'\n",
    "exp = eeg_decoder.Experiment(experiment, data_dir, dev=False,info_from_file=False)\n",
    "sub_folders = [f for f in Path(exp.data_dir).iterdir() if f.is_dir()]\n",
    "sub_folders"
   ]
  },
  {
   "cell_type": "code",
   "execution_count": 4,
   "metadata": {},
   "outputs": [
    {
     "data": {
      "text/plain": [
       "[WindowsPath('data/e/15'), WindowsPath('data/e/16')]"
      ]
     },
     "execution_count": 4,
     "metadata": {},
     "output_type": "execute_result"
    }
   ],
   "source": [
    "sub_folders = sub_folders[-2:]\n",
    "sub_folders"
   ]
  },
  {
   "cell_type": "code",
   "execution_count": 6,
   "metadata": {},
   "outputs": [
    {
     "name": "stdout",
     "output_type": "stream",
     "text": [
      "0\n",
      "Beh=Idx: True, X=Idx: True\n",
      "Beh=Idx: True, X=Idx: True\n",
      "Beh=Idx: True, X=Idx: True\n",
      "Beh=Idx: True, X=Idx: True\n",
      "Beh=Idx: True, X=Idx: True\n",
      "(array([10, 11, 12, 20, 21, 22], dtype=uint8), array([ 37, 216, 221,  43, 205, 203], dtype=int64))\n",
      "1\n",
      "Beh=Idx: True, X=Idx: True\n",
      "Beh=Idx: True, X=Idx: True\n",
      "Beh=Idx: True, X=Idx: True\n",
      "Beh=Idx: True, X=Idx: True\n",
      "Beh=Idx: True, X=Idx: True\n",
      "(array([10, 11, 12, 20, 21, 22], dtype=uint8), array([ 40, 223, 215,  24, 174, 207], dtype=int64))\n"
     ]
    }
   ],
   "source": [
    "for isub, sub_folder in enumerate(sub_folders):\n",
    "    print(isub)\n",
    "    exp.xdata_files = list(sub_folder.rglob('*xdata.mat'))\n",
    "    exp.ydata_files = list(sub_folder.rglob('*ydata.mat'))\n",
    "    exp.behavior_files = list(sub_folder.rglob('*behavior.csv'))\n",
    "    exp.artifact_idx_files = list(sub_folder.rglob('*artifact_idx.mat'))        \n",
    "\n",
    "    # load and concatenate data from behavior, eeg, and trial labels\n",
    "    for irun in range(len(exp.xdata_files)): \n",
    "        x1, y1 = exp.load_eeg(irun)\n",
    "        idx1 = exp.load_artifact_idx(irun)\n",
    "        beh1 = exp.load_behavior(irun, remove_artifact_trials=False)\n",
    "        \n",
    "        output_check = f'Beh=Idx: {len(pd.DataFrame(beh1)) == len(idx1)}, X=Idx: {len(x1) == sum(idx1)}'\n",
    "        print(output_check)\n",
    "        \n",
    "        if irun == 0:\n",
    "            x = x1 \n",
    "            y = y1\n",
    "            idx = idx1\n",
    "            beh = pd.DataFrame(beh1)\n",
    "            sub_num = sub_folder.name\n",
    "        else:\n",
    "            x = np.concatenate((x, x1), 0)\n",
    "            y = np.concatenate((y, y1), 0)\n",
    "            idx = np.concatenate((idx, idx1), 0)\n",
    "            beh1_df = pd.DataFrame(beh1)\n",
    "            beh = pd.concat((beh, beh1_df))\n",
    "\n",
    "    x = np.moveaxis(x, 0, 2) # roll bc saving with savemat changes shape for some reason...\n",
    "    print(np.unique(y, return_counts=True))\n",
    "\n",
    "    # save\n",
    "    # io.savemat(f'data/{experiment}/{experiment}_{sub_num}_xdata.mat',{'xdata':x})\n",
    "    # io.savemat(f'data/{experiment}/{experiment}_{sub_num}_ydata.mat',{'ydata':y})\n",
    "    # io.savemat(f'data/{experiment}/{experiment}_{sub_num}_artifact_idx.mat',{'artifact_idx':idx})\n",
    "    # beh.to_csv(f'data/{experiment}/{experiment}_{sub_num}_behavior.csv')\n",
    "    # shutil.copy(f'data/{experiment}/{sub_num}/{experiment}_{sub_num}_1_info.mat',f'data/{experiment}/{experiment}_{sub_num}_info.mat')"
   ]
  }
 ],
 "metadata": {
  "kernelspec": {
   "display_name": "Python 3.8.10 ('archery')",
   "language": "python",
   "name": "python3"
  },
  "language_info": {
   "codemirror_mode": {
    "name": "ipython",
    "version": 3
   },
   "file_extension": ".py",
   "mimetype": "text/x-python",
   "name": "python",
   "nbconvert_exporter": "python",
   "pygments_lexer": "ipython3",
   "version": "3.8.10"
  },
  "orig_nbformat": 4,
  "vscode": {
   "interpreter": {
    "hash": "0e28d7a6dc7611bfdd14031ec946c3c682c571ce4ba623eb550681919e64ea96"
   }
  }
 },
 "nbformat": 4,
 "nbformat_minor": 2
}
